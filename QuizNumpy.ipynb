{
 "cells": [
  {
   "cell_type": "code",
   "execution_count": 1,
   "metadata": {},
   "outputs": [],
   "source": [
    "import numpy as np"
   ]
  },
  {
   "cell_type": "code",
   "execution_count": 2,
   "metadata": {},
   "outputs": [],
   "source": [
    "array = np.array([1, 4, 5, 8], float)   #cada coisa dentro de uma matriz deve ser do mesmo tipo, como int ou float."
   ]
  },
  {
   "cell_type": "code",
   "execution_count": 3,
   "metadata": {},
   "outputs": [],
   "source": [
    "array = np.array([[1, 2, 3], [4, 5, 6]], float) "
   ]
  },
  {
   "cell_type": "code",
   "execution_count": 14,
   "metadata": {},
   "outputs": [
    {
     "name": "stdout",
     "output_type": "stream",
     "text": [
      "[1. 4. 5. 8.]\n",
      "\n",
      "[[1. 2. 3.]\n",
      " [4. 5. 6.]]\n"
     ]
    }
   ],
   "source": [
    "if True:\n",
    "    array = np.array([1, 4, 5, 8], float)               #mudando para True houve os resultados da matriz apareceram no print tanto o valor inteiro, quanto o separado.\n",
    "    print (array) \n",
    "    print ('')\n",
    "    array = np.array([[1, 2, 3], [4, 5, 6]], float)  \n",
    "    print (array)"
   ]
  },
  {
   "cell_type": "code",
   "execution_count": 16,
   "metadata": {},
   "outputs": [
    {
     "name": "stdout",
     "output_type": "stream",
     "text": [
      "[1. 4. 5. 8.]\n",
      "\n",
      "\n",
      "[1. 4.]\n",
      "\n",
      "5.0\n"
     ]
    }
   ],
   "source": [
    "if True:\n",
    "    array = np.array([1, 4, 5, 8], float)     # Existe a opção de cortar e pegar somente algo de seu interesse no Numpy\n",
    "    print (array)\n",
    "    print ('')\n",
    "    array[1]\n",
    "    print ('')\n",
    "    print (array[:2])\n",
    "    print ('') \n",
    "    array[1] = 5.0\n",
    "    print (array[1])"
   ]
  },
  {
   "cell_type": "code",
   "execution_count": 18,
   "metadata": {},
   "outputs": [
    {
     "name": "stdout",
     "output_type": "stream",
     "text": [
      "[[1. 2. 3.]\n",
      " [4. 5. 6.]]\n",
      "\n",
      "5.0\n",
      "\n",
      "[4. 5. 6.]\n",
      "\n",
      "[3. 6.]\n"
     ]
    }
   ],
   "source": [
    "if True:\n",
    "    two_D_array = np.array([[1, 2, 3], [4, 5, 6]], float)\n",
    "    print (two_D_array)                                                #aqui foi usado uma opção aritmetica do numpy para escolher uma das duas listas e outra para pegar um numero de cada lista.            \n",
    "    print (\"\")\n",
    "    print (two_D_array[1][1])\n",
    "    print (\"\")\n",
    "    print (two_D_array[1, :])\n",
    "    print (\"\")\n",
    "    print (two_D_array[:, 2])\n"
   ]
  },
  {
   "cell_type": "code",
   "execution_count": 19,
   "metadata": {},
   "outputs": [
    {
     "name": "stdout",
     "output_type": "stream",
     "text": [
      "[6. 4. 9.]\n",
      "\n",
      "[-4.  0. -3.]\n",
      "\n",
      "[ 5.  4. 18.]\n"
     ]
    }
   ],
   "source": [
    "if True:\n",
    "    array_1 = np.array([1, 2, 3], float)\n",
    "    array_2 = np.array([5, 2, 6], float)           #aqui vemos que foi separado os elementos dentro da lista criando duas variaveis fazendo uma adição, subtração e multiplicação entre elas.\n",
    "    print (array_1 + array_2)\n",
    "    print (\"\")\n",
    "    print (array_1 - array_2)\n",
    "    print (\"\")\n",
    "    print (array_1 * array_2)"
   ]
  },
  {
   "cell_type": "code",
   "execution_count": 20,
   "metadata": {},
   "outputs": [
    {
     "name": "stdout",
     "output_type": "stream",
     "text": [
      "[[ 6.  8.]\n",
      " [10. 12.]]\n",
      "\n",
      "[[-4. -4.]\n",
      " [-4. -4.]]\n",
      "\n",
      "[[ 5. 12.]\n",
      " [21. 32.]]\n"
     ]
    }
   ],
   "source": [
    "if True:\n",
    "    array_1 = np.array([[1, 2], [3, 4]], float)\n",
    "    array_2 = np.array([[5, 6], [7, 8]], float)\n",
    "    print (array_1 + array_2)\n",
    "    print (\"\")\n",
    "    print (array_1 - array_2)\n",
    "    print (\"\")\n",
    "    print (array_1 * array_2)\n"
   ]
  },
  {
   "cell_type": "code",
   "execution_count": 23,
   "metadata": {},
   "outputs": [],
   "source": [
    "array_1 = np.array([1, 2, 3], float)"
   ]
  },
  {
   "cell_type": "code",
   "execution_count": 24,
   "metadata": {},
   "outputs": [],
   "source": [
    "array_2 = np.array([[6], [7], [8]], float)"
   ]
  },
  {
   "cell_type": "code",
   "execution_count": 26,
   "metadata": {},
   "outputs": [
    {
     "name": "stdout",
     "output_type": "stream",
     "text": [
      "2.0\n",
      "7.0\n",
      "\n",
      "[44.]\n"
     ]
    }
   ],
   "source": [
    "if True:\n",
    "    array_1 = np.array([1, 2, 3], float)\n",
    "    array_2 = np.array([[6], [7], [8]], float)\n",
    "    print (np.mean(array_1))\n",
    "    print (np.mean(array_2                                       #Além das operações aritmeticas padrão, a Numpy também possui bastante outras operações matemáticas que você pode aplicar aos arrays Numpy.\n",
    "    print (\"\")\n",
    "    print (np.dot(array_1, array_2"
   ]
  },
  {
   "cell_type": "code",
   "execution_count": null,
   "metadata": {},
   "outputs": [],
   "source": []
  }
 ],
 "metadata": {
  "kernelspec": {
   "display_name": "Python 3",
   "language": "python",
   "name": "python3"
  },
  "language_info": {
   "codemirror_mode": {
    "name": "ipython",
    "version": 3
   },
   "file_extension": ".py",
   "mimetype": "text/x-python",
   "name": "python",
   "nbconvert_exporter": "python",
   "pygments_lexer": "ipython3",
   "version": "3.7.0"
  }
 },
 "nbformat": 4,
 "nbformat_minor": 2
}
